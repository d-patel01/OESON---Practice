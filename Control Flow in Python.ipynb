{
 "cells": [
  {
   "cell_type": "markdown",
   "id": "592e0385",
   "metadata": {},
   "source": [
    "# Control Flow in Python"
   ]
  },
  {
   "cell_type": "markdown",
   "id": "83df018e",
   "metadata": {},
   "source": [
    "## 'if' Statement"
   ]
  },
  {
   "cell_type": "code",
   "execution_count": 12,
   "id": "b7281a25",
   "metadata": {},
   "outputs": [
    {
     "name": "stdout",
     "output_type": "stream",
     "text": [
      "x is greater than 5\n"
     ]
    }
   ],
   "source": [
    "x = 6\n",
    "if x > 5:\n",
    "    print('x is greater than 5')"
   ]
  },
  {
   "cell_type": "markdown",
   "id": "38da5164",
   "metadata": {},
   "source": [
    "## 'if-else' Statement"
   ]
  },
  {
   "cell_type": "code",
   "execution_count": 1,
   "id": "0b880921",
   "metadata": {},
   "outputs": [
    {
     "name": "stdout",
     "output_type": "stream",
     "text": [
      "x is not greather than 5\n"
     ]
    }
   ],
   "source": [
    "x = 3\n",
    "if x > 5:\n",
    "    print('x is greater than 5')\n",
    "else:\n",
    "    print('x is not greather than 5')\n"
   ]
  },
  {
   "cell_type": "markdown",
   "id": "bdbc739c",
   "metadata": {},
   "source": [
    "## 'if-elif-else' Statement"
   ]
  },
  {
   "cell_type": "code",
   "execution_count": 10,
   "id": "36f9826d",
   "metadata": {},
   "outputs": [
    {
     "name": "stdout",
     "output_type": "stream",
     "text": [
      "x is greater than 5 but less than 15\n"
     ]
    }
   ],
   "source": [
    "x = 10\n",
    "if x > 15:\n",
    "    print('something')\n",
    "elif x > 5:\n",
    "    print('x is greater than 5 but less than 15')\n",
    "else:\n",
    "    print('x is 5 or less')"
   ]
  },
  {
   "cell_type": "markdown",
   "id": "b5961708",
   "metadata": {},
   "source": [
    "# Looping Statements/Iterative Statements"
   ]
  },
  {
   "cell_type": "markdown",
   "id": "6b6ee638",
   "metadata": {},
   "source": [
    "## 'for' loop"
   ]
  },
  {
   "cell_type": "code",
   "execution_count": 13,
   "id": "91d9cc38",
   "metadata": {},
   "outputs": [
    {
     "name": "stdout",
     "output_type": "stream",
     "text": [
      "0\n",
      "1\n",
      "2\n",
      "3\n",
      "4\n"
     ]
    }
   ],
   "source": [
    "for i in range(5):\n",
    "    print(i)"
   ]
  },
  {
   "cell_type": "markdown",
   "id": "d9ad6cc7",
   "metadata": {},
   "source": [
    "## 'while' loop"
   ]
  },
  {
   "cell_type": "code",
   "execution_count": 18,
   "id": "d3fac9cf",
   "metadata": {},
   "outputs": [
    {
     "name": "stdout",
     "output_type": "stream",
     "text": [
      "9\n",
      "8\n",
      "7\n",
      "6\n",
      "5\n"
     ]
    }
   ],
   "source": [
    "x = 10\n",
    "\n",
    "while x > 5:\n",
    "    x-= 1\n",
    "    print(x)\n",
    "    "
   ]
  },
  {
   "cell_type": "markdown",
   "id": "77c899c0",
   "metadata": {},
   "source": [
    "# Control FLow Tools"
   ]
  },
  {
   "cell_type": "markdown",
   "id": "8e4919d3",
   "metadata": {},
   "source": [
    "## 'break' Statement"
   ]
  },
  {
   "cell_type": "code",
   "execution_count": 3,
   "id": "d84c82ad",
   "metadata": {},
   "outputs": [
    {
     "name": "stdout",
     "output_type": "stream",
     "text": [
      "0\n",
      "1\n",
      "2\n",
      "3\n",
      "4\n"
     ]
    }
   ],
   "source": [
    "for i in range(10):\n",
    " if i == 5:\n",
    "  break\n",
    " print(i)"
   ]
  },
  {
   "cell_type": "markdown",
   "id": "3923bb07",
   "metadata": {},
   "source": [
    "## 'continue' Statement"
   ]
  },
  {
   "cell_type": "code",
   "execution_count": 6,
   "id": "52600dbf",
   "metadata": {},
   "outputs": [
    {
     "name": "stdout",
     "output_type": "stream",
     "text": [
      "1\n",
      "3\n",
      "5\n",
      "7\n",
      "9\n"
     ]
    }
   ],
   "source": [
    "for i in range(10):\n",
    " if i % 2 == 0:\n",
    "  continue\n",
    " print(i)"
   ]
  },
  {
   "cell_type": "markdown",
   "id": "d33324da",
   "metadata": {},
   "source": [
    "## 'pass' Statement"
   ]
  },
  {
   "cell_type": "code",
   "execution_count": 8,
   "id": "4c48c7a7",
   "metadata": {},
   "outputs": [
    {
     "name": "stdout",
     "output_type": "stream",
     "text": [
      "1\n",
      "3\n",
      "5\n",
      "7\n",
      "9\n"
     ]
    }
   ],
   "source": [
    "for i in range(10):\n",
    " if i % 2 == 0:\n",
    "  pass\n",
    " else:\n",
    "  print(i)"
   ]
  },
  {
   "cell_type": "markdown",
   "id": "5dfae468",
   "metadata": {},
   "source": [
    "# Examples"
   ]
  },
  {
   "cell_type": "code",
   "execution_count": 9,
   "id": "c0b6d089",
   "metadata": {},
   "outputs": [
    {
     "name": "stdout",
     "output_type": "stream",
     "text": [
      "[2, 4, 6, 8, 10]\n"
     ]
    }
   ],
   "source": [
    "# Filter out the even numbers from a list\n",
    "\n",
    "data = [1, 2, 3, 4, 5, 6, 7, 8, 9, 10]\n",
    "filtered_data = [x for x in data if x % 2 == 0]\n",
    "print(filtered_data)"
   ]
  },
  {
   "cell_type": "code",
   "execution_count": 10,
   "id": "3fa828d7",
   "metadata": {},
   "outputs": [
    {
     "name": "stdout",
     "output_type": "stream",
     "text": [
      "Sum: 55\n"
     ]
    }
   ],
   "source": [
    "# Calculate the sum of all elements in a list\n",
    "\n",
    "data = [1, 2, 3, 4, 5, 6, 7, 8, 9, 10]\n",
    "total = 0\n",
    "for num in data:\n",
    " total += num\n",
    "print('Sum:', total)"
   ]
  },
  {
   "cell_type": "code",
   "execution_count": 13,
   "id": "c5f2a306",
   "metadata": {},
   "outputs": [
    {
     "name": "stdout",
     "output_type": "stream",
     "text": [
      "1\n",
      "2\n",
      "Fizz\n",
      "4\n",
      "Buzz\n",
      "Fizz\n",
      "7\n",
      "8\n",
      "Fizz\n",
      "Buzz\n",
      "11\n",
      "Fizz\n",
      "13\n",
      "14\n",
      "FizzBuzz\n",
      "16\n",
      "17\n",
      "Fizz\n",
      "19\n",
      "Buzz\n",
      "Fizz\n",
      "22\n",
      "23\n",
      "Fizz\n",
      "Buzz\n",
      "26\n",
      "Fizz\n",
      "28\n",
      "29\n",
      "FizzBuzz\n",
      "31\n",
      "32\n",
      "Fizz\n",
      "34\n",
      "Buzz\n",
      "Fizz\n",
      "37\n",
      "38\n",
      "Fizz\n",
      "Buzz\n",
      "41\n",
      "Fizz\n",
      "43\n",
      "44\n",
      "FizzBuzz\n",
      "46\n",
      "47\n",
      "Fizz\n",
      "49\n",
      "Buzz\n"
     ]
    }
   ],
   "source": [
    "# Write a program that prints the numbers for 1 to 50. But for nultiples of three print \"Fizz\" instead of the number and for the multiples of five print \"Buzz\". For numbers which are multiples of both three and five print \"FizzBuzz\".\n",
    "\n",
    "for i in range(1,51):\n",
    " if i % 3 == 0 and i % 5 == 0:\n",
    "  print('FizzBuzz')\n",
    " elif i % 3 == 0:\n",
    "  print('Fizz')\n",
    " elif i % 5 == 0:\n",
    "\t\tprint('Buzz')\n",
    " else:\n",
    "  print(i)"
   ]
  },
  {
   "cell_type": "code",
   "execution_count": 15,
   "id": "83d2337c",
   "metadata": {},
   "outputs": [
    {
     "name": "stdout",
     "output_type": "stream",
     "text": [
      "2\n",
      "3\n",
      "5\n",
      "7\n",
      "11\n",
      "13\n",
      "17\n",
      "19\n",
      "23\n",
      "29\n",
      "31\n",
      "37\n",
      "41\n",
      "43\n",
      "47\n",
      "53\n",
      "59\n",
      "61\n",
      "67\n",
      "71\n",
      "73\n",
      "79\n",
      "83\n",
      "89\n",
      "97\n"
     ]
    }
   ],
   "source": [
    "# Write a program to print all prime numbers between 1 and 100\n",
    "\n",
    "for num in range(2, 101):\n",
    " is_prime = True\n",
    " for i in range(2, int(num/2) + 1):\n",
    "  if num % i == 0:\n",
    "   is_prime = False\n",
    "   break\n",
    " if is_prime:\n",
    "  print(num)"
   ]
  },
  {
   "cell_type": "code",
   "execution_count": 16,
   "id": "c48dee43",
   "metadata": {},
   "outputs": [
    {
     "name": "stdout",
     "output_type": "stream",
     "text": [
      "Sum of digits: 21\n"
     ]
    }
   ],
   "source": [
    "# Write a program to find the sum of the digits of a number.\n",
    "\n",
    "number = 123456\n",
    "total = 0\n",
    "while number > 0:\n",
    " digit = number % 10\n",
    " total += digit\n",
    " number //= 10\n",
    "print('Sum of digits:', total)"
   ]
  },
  {
   "cell_type": "code",
   "execution_count": 17,
   "id": "c43d7e69",
   "metadata": {},
   "outputs": [
    {
     "name": "stdout",
     "output_type": "stream",
     "text": [
      "0\n",
      "1\n",
      "1\n",
      "2\n",
      "3\n",
      "5\n",
      "8\n",
      "13\n",
      "21\n",
      "34\n"
     ]
    }
   ],
   "source": [
    "# Write a program to print the Fibonacci sequence up to 'n' times\n",
    "\n",
    "n = 10 \n",
    "a, b = 0, 1\n",
    "for _ in range(n):\n",
    " print(a)\n",
    " a, b = b, a + b"
   ]
  },
  {
   "cell_type": "code",
   "execution_count": 25,
   "id": "9577e63d",
   "metadata": {},
   "outputs": [
    {
     "name": "stdout",
     "output_type": "stream",
     "text": [
      "Factorial of: 5 is 120\n"
     ]
    }
   ],
   "source": [
    "# Write a program to calculate the factorial of a given number\n",
    "\n",
    "num = 5\n",
    "factorial = 1\n",
    "for i in range(1, num+1):\n",
    " factorial *= i\n",
    "print('Factorial of:',num, 'is', factorial)"
   ]
  },
  {
   "cell_type": "code",
   "execution_count": 26,
   "id": "49f004c6",
   "metadata": {},
   "outputs": [
    {
     "name": "stdout",
     "output_type": "stream",
     "text": [
      "Reversed string: ecneics atad\n"
     ]
    }
   ],
   "source": [
    "# Write a program to reverse a given string\n",
    "\n",
    "s = 'data science'\n",
    "reversed_s = ''\n",
    "for char in s:\n",
    " reversed_s = char + reversed_s\n",
    "print('Reversed string:', reversed_s)\n"
   ]
  },
  {
   "cell_type": "code",
   "execution_count": 31,
   "id": "90d31ee3",
   "metadata": {},
   "outputs": [
    {
     "name": "stdout",
     "output_type": "stream",
     "text": [
      "Is palindrome: True\n"
     ]
    }
   ],
   "source": [
    "# Write a program to check if\ta given string is a palindrome\n",
    "\n",
    "s = 'radar'\n",
    "is_ppalindrome = s == s[::-1]\n",
    "print('Is palindrome:', is_ppalindrome)"
   ]
  },
  {
   "cell_type": "code",
   "execution_count": 32,
   "id": "922a31c8",
   "metadata": {},
   "outputs": [
    {
     "name": "stdout",
     "output_type": "stream",
     "text": [
      "Vowels: 3\n",
      "Consonants: 7\n"
     ]
    }
   ],
   "source": [
    "# Write a program to count the number of vowels and consonants in a string\n",
    "\n",
    "s = 'hello world'\n",
    "vowels = 'aeiou'\n",
    "vowel_counts = 0\n",
    "consonant_counts = 0\n",
    "\n",
    "for char in s.lower():\n",
    " if char in vowels:\n",
    "  vowel_counts += 1\n",
    " elif char.isalpha():\n",
    "\t\tconsonant_counts += 1\n",
    "\n",
    "print('Vowels:', vowel_counts)\n",
    "print('Consonants:', consonant_counts)"
   ]
  },
  {
   "cell_type": "code",
   "execution_count": 35,
   "id": "81f77922",
   "metadata": {},
   "outputs": [
    {
     "name": "stdout",
     "output_type": "stream",
     "text": [
      "Max number: 100\n"
     ]
    }
   ],
   "source": [
    "# Write a program to find the maximum number in a given list\n",
    "\n",
    "numbers = [10, 24, 36, 4, 15, 67, 0.7, 8, 9, 100]\n",
    "max_num = numbers[0]\n",
    "\n",
    "for num in numbers:\n",
    " if num > max_num:\n",
    "  max_num = num\n",
    "\n",
    "print('Max number:', max_num)"
   ]
  },
  {
   "cell_type": "code",
   "execution_count": 36,
   "id": "275ebf94",
   "metadata": {},
   "outputs": [
    {
     "name": "stdout",
     "output_type": "stream",
     "text": [
      "Sum of even numbers: 30\n"
     ]
    }
   ],
   "source": [
    "# Write a program to calculate the sum of all even numbers in a list\n",
    "\n",
    "numbers = [1, 2, 3, 4, 5, 6, 7, 8, 9, 10]\n",
    "sum_even = 0\n",
    "\n",
    "for num in numbers:\n",
    " if num % 2 == 0:\n",
    "  sum_even\t+= num\n",
    "  \n",
    "print('Sum of even numbers:', sum_even)"
   ]
  },
  {
   "cell_type": "code",
   "execution_count": 37,
   "id": "ad71dd86",
   "metadata": {},
   "outputs": [
    {
     "name": "stdout",
     "output_type": "stream",
     "text": [
      "1\t2\t3\t4\t5\t6\t7\t8\t9\t10\t\n",
      "2\t4\t6\t8\t10\t12\t14\t16\t18\t20\t\n",
      "3\t6\t9\t12\t15\t18\t21\t24\t27\t30\t\n",
      "4\t8\t12\t16\t20\t24\t28\t32\t36\t40\t\n",
      "5\t10\t15\t20\t25\t30\t35\t40\t45\t50\t\n",
      "6\t12\t18\t24\t30\t36\t42\t48\t54\t60\t\n",
      "7\t14\t21\t28\t35\t42\t49\t56\t63\t70\t\n",
      "8\t16\t24\t32\t40\t48\t56\t64\t72\t80\t\n",
      "9\t18\t27\t36\t45\t54\t63\t72\t81\t90\t\n",
      "10\t20\t30\t40\t50\t60\t70\t80\t90\t100\t\n"
     ]
    }
   ],
   "source": [
    "# Write a program to print a multiplication table (from 1 to 10)\n",
    "\n",
    "for i in range(1,11):\n",
    " for j in range(1,11):\n",
    "  print(i * j, end='\\t')\n",
    " print()"
   ]
  },
  {
   "cell_type": "code",
   "execution_count": 38,
   "id": "f684c7d8",
   "metadata": {},
   "outputs": [
    {
     "name": "stdout",
     "output_type": "stream",
     "text": [
      "Squres\tof even numbers: [4, 16, 36, 64, 100]\n"
     ]
    }
   ],
   "source": [
    "# Use list comprehension to creat a list of squares of even numberd\tfrom 1 to 10\n",
    "\n",
    "numbers = [1, 2, 3, 4, 5, 6, 7, 8, 9, 10]\n",
    "squres_of_even = [num **2 for num in numbers if num % 2 == 0]\n",
    "print('Squres\tof even numbers:', squres_of_even)"
   ]
  },
  {
   "cell_type": "code",
   "execution_count": 39,
   "id": "d24f6235",
   "metadata": {},
   "outputs": [
    {
     "name": "stdout",
     "output_type": "stream",
     "text": [
      "Common\telements: [4, 5]\n"
     ]
    }
   ],
   "source": [
    "# Write a program to find the common elements in two lists\n",
    "\n",
    "list1 = [1, 2, 3, 4, 5]\n",
    "list2 = [4, 5, 6, 7, 8]\n",
    "common_elements = [element for element in list1 if element in list2]\n",
    "print('Common\telements:', common_elements)"
   ]
  },
  {
   "cell_type": "code",
   "execution_count": 40,
   "id": "7e446534",
   "metadata": {},
   "outputs": [
    {
     "name": "stdout",
     "output_type": "stream",
     "text": [
      "Average: 5.5\n"
     ]
    }
   ],
   "source": [
    "# Write a program to calculate the average of numbers in a list\n",
    "\n",
    "numbers = [1, 2, 3, 4, 5, 6, 7, 8, 9, 10]\n",
    "average = sum(numbers) / len(numbers)\n",
    "print('Average:', average)"
   ]
  },
  {
   "cell_type": "code",
   "execution_count": 41,
   "id": "136aa21e",
   "metadata": {},
   "outputs": [
    {
     "name": "stdout",
     "output_type": "stream",
     "text": [
      "Unique numbers: [1, 2, 3, 4, 5]\n"
     ]
    }
   ],
   "source": [
    "# Write a program to remove duplicates from a list\n",
    "\n",
    "numbers = [1, 2, 3, 4, 5, 1, 2, 3, 4, 5]\n",
    "unique_numbers = []\n",
    "for num in numbers:\n",
    " if num not in unique_numbers:\n",
    "\t\tunique_numbers.append(num)\n",
    " \n",
    "print('Unique numbers:', unique_numbers)"
   ]
  },
  {
   "cell_type": "code",
   "execution_count": 42,
   "id": "1c1e294a",
   "metadata": {},
   "outputs": [
    {
     "name": "stdout",
     "output_type": "stream",
     "text": [
      "Flattened list: [1, 2, 3, 4, 5, 6, 7, 8, 9]\n"
     ]
    }
   ],
   "source": [
    "# Write a program to flatten a nested list\n",
    "\n",
    "nested_list = [[1, 2, 3], [4, 5, 6], [7, 8, 9]]\n",
    "flattened_list = [item for sublist in nested_list for item in sublist]\n",
    "print('Flattened list:', flattened_list)"
   ]
  },
  {
   "cell_type": "code",
   "execution_count": 43,
   "id": "c6b798b2",
   "metadata": {},
   "outputs": [
    {
     "name": "stdout",
     "output_type": "stream",
     "text": [
      "Dictionary: {'a': 1, 'b': 2, 'c': 3, 'd': 4}\n"
     ]
    }
   ],
   "source": [
    "# Write a program to generate a dictionary from two lists, one as keys and the other as values\n",
    "\n",
    "keys =\t['a', 'b', 'c', 'd']\n",
    "values = [1, 2, 3, 4]\n",
    "dictionary = dict(zip(keys, values))\n",
    "print('Dictionary:', dictionary)"
   ]
  },
  {
   "cell_type": "code",
   "execution_count": 44,
   "id": "31dd2017",
   "metadata": {},
   "outputs": [
    {
     "name": "stdout",
     "output_type": "stream",
     "text": [
      "Element counts: {1: 4, 2: 3, 3: 2, 4: 1}\n"
     ]
    }
   ],
   "source": [
    "# Wrtie a program to count the occurrences of each element in a list\n",
    "\n",
    "numbers = [1, 2, 3, 4, 1, 2, 3, 1, 2, 1]\n",
    "count_dict = {}\n",
    "for num in numbers:\n",
    " if num in count_dict:\n",
    "  count_dict[num] += 1\n",
    " else:\n",
    "  count_dict[num] = 1\n",
    "print('Element counts:', count_dict)"
   ]
  },
  {
   "cell_type": "code",
   "execution_count": 45,
   "id": "713c0d5f",
   "metadata": {},
   "outputs": [
    {
     "name": "stdout",
     "output_type": "stream",
     "text": [
      "Transposed matrix: [[1, 4, 7], [2, 5, 8], [3, 6, 9]]\n"
     ]
    }
   ],
   "source": [
    "# Write a program to transpose a given matrix\n",
    "\n",
    "matrix =\t[[1, 2, 3], [4, 5, 6], [7, 8, 9]]\n",
    "transposed = [[row[i] for row in matrix] for i in range(3)]\n",
    "print('Transposed matrix:', transposed)"
   ]
  },
  {
   "cell_type": "code",
   "execution_count": 46,
   "id": "7675c076",
   "metadata": {},
   "outputs": [
    {
     "name": "stdout",
     "output_type": "stream",
     "text": [
      "Is anagram: True\n"
     ]
    }
   ],
   "source": [
    "# Write a program to check if two strings are anagrams\n",
    "\n",
    "str1 = 'listen'\n",
    "str2 = 'silent'\n",
    "is_anagram = sorted(str1) == sorted(str2)\n",
    "print('Is anagram:', is_anagram)"
   ]
  },
  {
   "cell_type": "markdown",
   "id": "a5b178fc",
   "metadata": {},
   "source": [
    "# Practice"
   ]
  },
  {
   "cell_type": "code",
   "execution_count": 48,
   "id": "67a28765",
   "metadata": {},
   "outputs": [
    {
     "name": "stdout",
     "output_type": "stream",
     "text": [
      "Longest word: sentence\n"
     ]
    }
   ],
   "source": [
    "# Write a program to find the longest word in a given sentence\n",
    "\n",
    "sentence = 'This is a sentence with a long word'\n",
    "words = sentence.split()\n",
    "longest_word\t= ''\n",
    "\n",
    "for word in words:\n",
    " if len(word) > len(longest_word):\n",
    "\t\tlongest_word = word\n",
    " \n",
    "print('Longest word:', longest_word)"
   ]
  },
  {
   "cell_type": "code",
   "execution_count": 49,
   "id": "bf20e45c",
   "metadata": {},
   "outputs": [
    {
     "name": "stdout",
     "output_type": "stream",
     "text": [
      "First 10 prime numbers: [2, 3, 5, 7, 11, 13, 17, 19, 23, 29]\n"
     ]
    }
   ],
   "source": [
    "# Write a program to generate the first n prime numbers\n",
    "\n",
    "n = 10\n",
    "primes = []\n",
    "num = 2\n",
    "\n",
    "while len(primes) < n:\n",
    "\tis_prime = True\n",
    "\tfor i in range(2, int(num/2) + 1):\n",
    "\t\tif num % i == 0:\n",
    "\t\t\tis_prime = False\n",
    "\t\t\tbreak\n",
    "\tif is_prime:\n",
    "\t\tprimes.append(num)\n",
    "\tnum += 1\n",
    " \n",
    "print('First', n, 'prime numbers:', primes)"
   ]
  },
  {
   "cell_type": "code",
   "execution_count": 54,
   "id": "96c13aef",
   "metadata": {},
   "outputs": [
    {
     "name": "stdout",
     "output_type": "stream",
     "text": [
      "Binary representation: 0.55\n"
     ]
    }
   ],
   "source": [
    "# Wrtie a program to convert a decimal number to its binary representation\n",
    "\n",
    "decimal = 10\n",
    "binary = ''\n",
    "while decimal > 0:\n",
    "\tbinary = str(decimal % 2) + binary\n",
    "\tdecimal //= 2\n",
    " \n",
    "print('Binary representation:', binary)"
   ]
  },
  {
   "cell_type": "code",
   "execution_count": 57,
   "id": "02869973",
   "metadata": {},
   "outputs": [
    {
     "name": "stdout",
     "output_type": "stream",
     "text": [
      "Sorted list: [{'id': 5, 'name': 'Eve', 'age': 22, 'city': 'Phoenix'}, {'id': 2, 'name': 'Bob', 'age': 25, 'city': 'Los Angeles'}, {'id': 10, 'name': 'Judy', 'age': 26, 'city': 'San Jose'}, {'id': 8, 'name': 'Hannah', 'age': 27, 'city': 'San Diego'}, {'id': 6, 'name': 'Frank', 'age': 28, 'city': 'Philadelphia'}, {'id': 1, 'name': 'Alice', 'age': 30, 'city': 'New York'}, {'id': 7, 'name': 'Grace', 'age': 32, 'city': 'San Antonio'}, {'id': 9, 'name': 'Isaac', 'age': 33, 'city': 'Dallas'}, {'id': 3, 'name': 'Charlie', 'age': 35, 'city': 'Chicago'}, {'id': 4, 'name': 'David', 'age': 40, 'city': 'Houston'}]\n"
     ]
    }
   ],
   "source": [
    "# Write a program to sort a list of dictionaries by a speicified key\n",
    "\n",
    "random_list_of_dicts = [\n",
    "    {\"id\": 1, \"name\": \"Alice\", \"age\": 30, \"city\": \"New York\"},\n",
    "    {\"id\": 2, \"name\": \"Bob\", \"age\": 25, \"city\": \"Los Angeles\"},\n",
    "    {\"id\": 3, \"name\": \"Charlie\", \"age\": 35, \"city\": \"Chicago\"},\n",
    "    {\"id\": 4, \"name\": \"David\", \"age\": 40, \"city\": \"Houston\"},\n",
    "    {\"id\": 5, \"name\": \"Eve\", \"age\": 22, \"city\": \"Phoenix\"},\n",
    "    {\"id\": 6, \"name\": \"Frank\", \"age\": 28, \"city\": \"Philadelphia\"},\n",
    "    {\"id\": 7, \"name\": \"Grace\", \"age\": 32, \"city\": \"San Antonio\"},\n",
    "    {\"id\": 8, \"name\": \"Hannah\", \"age\": 27, \"city\": \"San Diego\"},\n",
    "    {\"id\": 9, \"name\": \"Isaac\", \"age\": 33, \"city\": \"Dallas\"},\n",
    "    {\"id\": 10, \"name\": \"Judy\", \"age\": 26, \"city\": \"San Jose\"}\n",
    "]\n",
    "\n",
    "key = 'age'\n",
    "sorted_list = sorted(random_list_of_dicts, key=lambda x: x[key])\n",
    "print('Sorted list:', sorted_list)\n",
    "\n"
   ]
  },
  {
   "cell_type": "code",
   "execution_count": 58,
   "id": "6b2e44ca",
   "metadata": {},
   "outputs": [
    {
     "name": "stdout",
     "output_type": "stream",
     "text": [
      "GCD of 12 and 18 is 6\n"
     ]
    }
   ],
   "source": [
    "# Write a program the calculate the greatest common divisor of two numbers\n",
    "\n",
    "def gcd(a, b):\n",
    "\twhile b:\n",
    "\t\ta, b = b, a % b\n",
    "\treturn a\n",
    "\n",
    "num1 = 12\n",
    "num2 = 18\n",
    "print('GCD of', num1, 'and', num2, 'is', gcd(num1, num2))\n"
   ]
  },
  {
   "cell_type": "code",
   "execution_count": 61,
   "id": "818dd2d1",
   "metadata": {},
   "outputs": [
    {
     "name": "stdout",
     "output_type": "stream",
     "text": [
      "First 5 Fibonacci numbers: [0, 1, 1, 2, 3]\n"
     ]
    }
   ],
   "source": [
    "# Write a program to generate a list of the first n Fibonacci numbers\n",
    "\n",
    "n = 5\n",
    "fibonacci = [0, 1]\n",
    "for i in range(2, n):\n",
    "\tfibonacci.append(fibonacci[i-1] + fibonacci[i-2])\n",
    " \n",
    "print('First', n, 'Fibonacci numbers:', fibonacci)"
   ]
  },
  {
   "cell_type": "code",
   "execution_count": 62,
   "id": "d16042ae",
   "metadata": {},
   "outputs": [
    {
     "name": "stdout",
     "output_type": "stream",
     "text": [
      "Intersection: [4, 5]\n"
     ]
    }
   ],
   "source": [
    "# Write a program to find the intersection of two lists\n",
    "\n",
    "list1 = [1, 2, 3, 4, 5]\n",
    "list2 = [4, 5, 6, 7, 8]\n",
    "intersection = [element for element in list1 if element in list2]\n",
    "print('Intersection:', intersection)"
   ]
  },
  {
   "cell_type": "code",
   "execution_count": 69,
   "id": "2ae6604f",
   "metadata": {},
   "outputs": [
    {
     "name": "stdout",
     "output_type": "stream",
     "text": [
      "Merged list: [1, 2, 3, 4, 5, 6, 7, 8, 9, 10, 11]\n"
     ]
    }
   ],
   "source": [
    "# Write a program to merge two sortes lists into a single sorted list\n",
    "\n",
    "list1 = [1, 3, 5, 7, 9]\n",
    "list2 = [2, 4, 6, 8, 10, 11]\n",
    "merged = []\n",
    "i = j = 0\n",
    "\n",
    "while i < len(list1) and j < len(list2):\n",
    "\tif list1[i] < list2[j]:\n",
    "\t\tmerged.append(list1[i])\n",
    "\t\ti += 1\n",
    "\telse:\n",
    "\t\tmerged.append(list2[j])\n",
    "\t\tj += 1\n",
    "\n",
    "merged += list1[i:]\n",
    "merged += list2[j:]\n",
    "print('Merged list:', merged)"
   ]
  },
  {
   "cell_type": "code",
   "execution_count": 64,
   "id": "5ed2619f",
   "metadata": {},
   "outputs": [
    {
     "name": "stdout",
     "output_type": "stream",
     "text": [
      "Dot product: 32\n"
     ]
    }
   ],
   "source": [
    "# Write a program to caclculate the dot product of two vectors\n",
    "\n",
    "vector1 = [1, 2, 3]\n",
    "vector2 = [4, 5, 6]\n",
    "dot_product = sum([i * j for i, j in zip(vector1, vector2)])\n",
    "print('Dot product:', dot_product)"
   ]
  },
  {
   "cell_type": "code",
   "execution_count": 65,
   "id": "f795aa9b",
   "metadata": {},
   "outputs": [
    {
     "name": "stdout",
     "output_type": "stream",
     "text": [
      "Result: 15\n"
     ]
    }
   ],
   "source": [
    "# Write a program to implement a simple calculator that can perform basic arithmetic operations\n",
    "\n",
    "def add(x, y):\n",
    "\treturn x + y\n",
    "\n",
    "def subtract(x, y):\n",
    "\treturn x - y\n",
    "\n",
    "def multiply(x, y):\n",
    "\treturn x * y\n",
    "\n",
    "def divide(x, y):\n",
    "\treturn x / y\n",
    "\n",
    "def calculator(x, y, operation):\n",
    "\tif operation == '+':\n",
    "\t\treturn add(x, y)\n",
    "\telif operation == '-':\n",
    "\t\treturn subtract(x, y)\n",
    "\telif operation == '*':\n",
    "\t\treturn multiply(x, y)\n",
    "\telif operation == '/':\n",
    "\t\treturn divide(x, y)\n",
    "\telse:\n",
    "\t\treturn None\n",
    " \n",
    "result = calculator(10, 5, '+')\n",
    "print('Result:', result)"
   ]
  }
 ],
 "metadata": {
  "kernelspec": {
   "display_name": "Python 3 (ipykernel)",
   "language": "python",
   "name": "python3"
  },
  "language_info": {
   "codemirror_mode": {
    "name": "ipython",
    "version": 3
   },
   "file_extension": ".py",
   "mimetype": "text/x-python",
   "name": "python",
   "nbconvert_exporter": "python",
   "pygments_lexer": "ipython3",
   "version": "3.11.5"
  }
 },
 "nbformat": 4,
 "nbformat_minor": 5
}
