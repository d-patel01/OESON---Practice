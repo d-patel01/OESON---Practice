{
 "cells": [
  {
   "cell_type": "markdown",
   "id": "a2f6d8a2-2f4f-440a-99db-579d266c55e7",
   "metadata": {},
   "source": [
    "## Lists:"
   ]
  },
  {
   "cell_type": "markdown",
   "id": "f6e56b25-ed7b-4879-a48f-b04258faeaa1",
   "metadata": {},
   "source": [
    "Question - Appending and Removing Elements: Create an empty list called my_list. Append\n",
    "the numbers 1, 2, and 3 to my_list. Then remove the number 2 from the list.\n"
   ]
  },
  {
   "cell_type": "code",
   "execution_count": 18,
   "id": "525774cd-cee2-4139-bb10-baaf4e351ecb",
   "metadata": {
    "tags": []
   },
   "outputs": [
    {
     "name": "stdout",
     "output_type": "stream",
     "text": [
      "[1, 2, 3]\n",
      "[1, 3]\n"
     ]
    }
   ],
   "source": [
    "my_list = []\n",
    "my_list.append(1)\n",
    "my_list.append(2)\n",
    "my_list.append(3)\n",
    "print(my_list)\n",
    "\n",
    "my_list.remove(2)\n",
    "print(my_list)"
   ]
  },
  {
   "cell_type": "markdown",
   "id": "2f20640f-c6db-4f1f-b017-d38cfb7bdee8",
   "metadata": {},
   "source": [
    "Question- Accessing Elements: Create a list called fruits containing the strings \"apple\",\n",
    "\"banana\", \"cherry\", \"date\". Print the second element of the list.\n"
   ]
  },
  {
   "cell_type": "code",
   "execution_count": 20,
   "id": "709bbbc8-f144-4916-98b9-51831448518c",
   "metadata": {
    "tags": []
   },
   "outputs": [
    {
     "name": "stdout",
     "output_type": "stream",
     "text": [
      "banana\n"
     ]
    }
   ],
   "source": [
    "fruits = ['apple','banana','cherry','date']\n",
    "\n",
    "print(fruits[1])"
   ]
  },
  {
   "cell_type": "markdown",
   "id": "c19f4df2-044d-49a8-97c3-046c1a2f7c21",
   "metadata": {},
   "source": [
    "Question- Slicing: Create a list called numbers containing the numbers from 1 to 10. Print a\n",
    "slice of the list containing elements from the third element to the sixth element.\n"
   ]
  },
  {
   "cell_type": "code",
   "execution_count": 30,
   "id": "83966bfb-8f06-4ac3-9da7-48703cc35107",
   "metadata": {
    "tags": []
   },
   "outputs": [
    {
     "name": "stdout",
     "output_type": "stream",
     "text": [
      "[1, 2, 3, 4, 5, 6, 7, 8, 9, 10]\n"
     ]
    },
    {
     "data": {
      "text/plain": [
       "[3, 4, 5, 6]"
      ]
     },
     "execution_count": 30,
     "metadata": {},
     "output_type": "execute_result"
    }
   ],
   "source": [
    "numbers = list(range(1,11))\n",
    "print(numbers)\n",
    "\n",
    "numbers[2:6]"
   ]
  },
  {
   "cell_type": "markdown",
   "id": "c7f1e2a6-73db-454d-b288-8e54d5e5cf34",
   "metadata": {},
   "source": [
    "## Sets:"
   ]
  },
  {
   "cell_type": "markdown",
   "id": "5a879a0e-b76f-46b3-8255-d402af07773a",
   "metadata": {},
   "source": [
    "Question - Adding and Removing Elements: Create an empty set called my_set. Add the\n",
    "numbers 1, 2, and 3 to my_set. Then remove the number 2 from the set.\n"
   ]
  },
  {
   "cell_type": "code",
   "execution_count": 47,
   "id": "9adf039e-e066-47a2-939c-5a05555dbba7",
   "metadata": {
    "tags": []
   },
   "outputs": [
    {
     "name": "stdout",
     "output_type": "stream",
     "text": [
      "{1, 2, 3}\n"
     ]
    },
    {
     "data": {
      "text/plain": [
       "{1, 3}"
      ]
     },
     "execution_count": 47,
     "metadata": {},
     "output_type": "execute_result"
    }
   ],
   "source": [
    "my_set = set()\n",
    "my_set.add(1)\n",
    "my_set.add(2)\n",
    "my_set.add(3)\n",
    "print(my_set)\n",
    "\n",
    "my_set.remove(2)\n",
    "my_set"
   ]
  },
  {
   "cell_type": "markdown",
   "id": "a9e7bfeb-56e0-46a9-82d0-3229eff7559a",
   "metadata": {},
   "source": [
    "Question - Operations: Create two sets called set1 and set2, each containing a few\n",
    "numbers. Print the union, intersection, and difference of the two sets.\n"
   ]
  },
  {
   "cell_type": "code",
   "execution_count": 49,
   "id": "8a4b5b09-29bd-4731-83b5-5bd60131ad11",
   "metadata": {
    "tags": []
   },
   "outputs": [
    {
     "name": "stdout",
     "output_type": "stream",
     "text": [
      "{4, 5}\n",
      "{1, 2, 3, 4, 5, 6, 7, 8}\n",
      "{1, 2, 3}\n"
     ]
    }
   ],
   "source": [
    "set1 = {1,2,3,4,5}\n",
    "set2 = {4,5,6,7,8}\n",
    "\n",
    "print(set1 & set2)\n",
    "print(set1 | set2)\n",
    "print(set1 - set2)"
   ]
  },
  {
   "cell_type": "markdown",
   "id": "13b6b40a-aa38-4eb6-9da8-87ffed10277b",
   "metadata": {},
   "source": [
    "## Tuples:"
   ]
  },
  {
   "cell_type": "markdown",
   "id": "cad82455-42ac-45dd-bff5-938908535df0",
   "metadata": {},
   "source": [
    "Question - Accessing Elements: Create a tuple called coordinates containing the latitude\n",
    "and longitude of a location (e.g., (40.7128, -74.0060) for New York City). Print the latitude\n",
    "and longitude separately.\n"
   ]
  },
  {
   "cell_type": "code",
   "execution_count": 55,
   "id": "c859c897-17ec-4e8b-95ac-2a8bfc48e5af",
   "metadata": {
    "tags": []
   },
   "outputs": [
    {
     "data": {
      "text/plain": [
       "(40.7128, -74.006)"
      ]
     },
     "execution_count": 55,
     "metadata": {},
     "output_type": "execute_result"
    }
   ],
   "source": [
    "coordinates = (40.7128,-74.0060,'New York City')\n",
    "\n",
    "coordinates[0:2]"
   ]
  },
  {
   "cell_type": "markdown",
   "id": "2e60d036-7319-4599-b2b4-06e4cb416565",
   "metadata": {},
   "source": [
    "Question - Packing and Unpacking: Create a tuple called person containing information\n",
    "about a person, such as their name, age, and city. Then unpack the tuple into individual\n",
    "variables"
   ]
  },
  {
   "cell_type": "code",
   "execution_count": 59,
   "id": "66638653-96b3-41d7-b07a-04249766afef",
   "metadata": {
    "tags": []
   },
   "outputs": [
    {
     "name": "stdout",
     "output_type": "stream",
     "text": [
      "Devam\n",
      "23\n",
      "Dallas\n"
     ]
    }
   ],
   "source": [
    "person = ('Devam', 23, 'Dallas')\n",
    "\n",
    "name, age, city = person\n",
    "\n",
    "print(name)\n",
    "print(age)\n",
    "print(city)"
   ]
  }
 ],
 "metadata": {
  "kernelspec": {
   "display_name": "Python 3 (ipykernel)",
   "language": "python",
   "name": "python3"
  },
  "language_info": {
   "codemirror_mode": {
    "name": "ipython",
    "version": 3
   },
   "file_extension": ".py",
   "mimetype": "text/x-python",
   "name": "python",
   "nbconvert_exporter": "python",
   "pygments_lexer": "ipython3",
   "version": "3.11.5"
  }
 },
 "nbformat": 4,
 "nbformat_minor": 5
}
