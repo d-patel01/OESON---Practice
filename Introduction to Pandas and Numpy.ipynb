{
 "cells": [
  {
   "cell_type": "markdown",
   "id": "83c7e4ee-4f5f-43fa-ae77-b151b3f33cc9",
   "metadata": {},
   "source": [
    "# Introduction to NumPy"
   ]
  },
  {
   "cell_type": "code",
   "execution_count": 52,
   "id": "15a3e6cb-033d-4a49-9184-d3b73edb5ee9",
   "metadata": {
    "tags": []
   },
   "outputs": [],
   "source": [
    "import numpy as np"
   ]
  },
  {
   "cell_type": "markdown",
   "id": "94676770",
   "metadata": {},
   "source": [
    "## Numpy Arrays"
   ]
  },
  {
   "cell_type": "code",
   "execution_count": 53,
   "id": "0def513b-454f-48dc-b926-4fabea12bc40",
   "metadata": {
    "tags": []
   },
   "outputs": [
    {
     "name": "stdout",
     "output_type": "stream",
     "text": [
      "[1 2 3 4 5]\n",
      "[0. 0. 0. 0. 0.]\n",
      "[[1. 1. 1.]\n",
      " [1. 1. 1.]\n",
      " [1. 1. 1.]]\n",
      "[0 2 4 6 8]\n"
     ]
    }
   ],
   "source": [
    "#Creating NumPy arrays\n",
    "arr1 = np.array([1,2,3,4,5])\n",
    "print(arr1)\n",
    "\n",
    "arr2 = np.zeros(5)\n",
    "print(arr2)\n",
    "\n",
    "arr3 = np.ones((3,3))\n",
    "print(arr3)\n",
    "\n",
    "arr4 = np.arange(0,10,2)\n",
    "print(arr4)\n",
    "\n"
   ]
  },
  {
   "cell_type": "code",
   "execution_count": 54,
   "id": "cee7c8dc-d165-406b-8009-9adb7681b315",
   "metadata": {
    "tags": []
   },
   "outputs": [
    {
     "name": "stdout",
     "output_type": "stream",
     "text": [
      "(5,)\n",
      "5\n",
      "int32\n"
     ]
    }
   ],
   "source": [
    "#Array attributes: shape, size, dtype\n",
    "print(arr1.shape)\n",
    "\n",
    "print(arr1.size)\n",
    "\n",
    "print(arr1.dtype)"
   ]
  },
  {
   "cell_type": "code",
   "execution_count": 55,
   "id": "f8ca8458-7ba7-424c-9879-307ab6998cbb",
   "metadata": {
    "tags": []
   },
   "outputs": [
    {
     "name": "stdout",
     "output_type": "stream",
     "text": [
      "1\n",
      "[2 3 4]\n"
     ]
    }
   ],
   "source": [
    "#Indexing and slicing arrays\n",
    "print(arr1[0])\n",
    "\n",
    "print(arr1[1:4])"
   ]
  },
  {
   "cell_type": "code",
   "execution_count": 56,
   "id": "fb581fed-0a28-4624-b6b1-89a02ab337cf",
   "metadata": {
    "tags": []
   },
   "outputs": [
    {
     "name": "stdout",
     "output_type": "stream",
     "text": [
      "[1. 2. 3. 4. 5.]\n",
      "15\n",
      "[ 2  4  6  8 10]\n"
     ]
    }
   ],
   "source": [
    "#Array operations: artihmetic, aggregation, broadcasting\n",
    "arr6 = arr1 + arr2\n",
    "print(arr6)\n",
    "\n",
    "print(np.sum(arr1))\n",
    "\n",
    "arr7 = arr1 * 2\n",
    "print(arr7)"
   ]
  },
  {
   "cell_type": "markdown",
   "id": "a18a9897",
   "metadata": {},
   "source": [
    "## Array Manipulation"
   ]
  },
  {
   "cell_type": "code",
   "execution_count": 57,
   "id": "e5b5080f-c122-42f5-81c4-416b339bae2c",
   "metadata": {
    "tags": []
   },
   "outputs": [
    {
     "data": {
      "text/plain": [
       "array([[0, 1, 2],\n",
       "       [3, 4, 5],\n",
       "       [6, 7, 8]])"
      ]
     },
     "execution_count": 57,
     "metadata": {},
     "output_type": "execute_result"
    }
   ],
   "source": [
    "arr8 = np.arange(9).reshape(3,3)\n",
    "arr8"
   ]
  },
  {
   "cell_type": "code",
   "execution_count": 58,
   "id": "6e8462e4",
   "metadata": {},
   "outputs": [
    {
     "name": "stdout",
     "output_type": "stream",
     "text": [
      "[[0 1 2]\n",
      " [3 4 5]\n",
      " [6 7 8]\n",
      " [0 1 2]\n",
      " [3 4 5]\n",
      " [6 7 8]]\n",
      "[[0 1 2]\n",
      " [3 4 5]\n",
      " [6 7 8]] [[0 1 2]\n",
      " [3 4 5]\n",
      " [6 7 8]]\n"
     ]
    }
   ],
   "source": [
    "#Stacking and splitting arrays\n",
    "arr9 = np.vstack((arr8, arr8))\n",
    "print(arr9)\n",
    "\n",
    "arr10, arr11 = np.split(arr9, 2)\n",
    "print(arr10, arr11)"
   ]
  },
  {
   "cell_type": "code",
   "execution_count": 59,
   "id": "41a11bb8-1bfb-4482-81a3-20f3215e93df",
   "metadata": {
    "tags": []
   },
   "outputs": [
    {
     "name": "stdout",
     "output_type": "stream",
     "text": [
      "[[0 3 6]\n",
      " [1 4 7]\n",
      " [2 5 8]]\n"
     ]
    }
   ],
   "source": [
    "#Transposing arrays\n",
    "arr12 = arr8.T\n",
    "print(arr12)"
   ]
  },
  {
   "cell_type": "code",
   "execution_count": 60,
   "id": "7ba1afca-c207-4844-b8e0-ee7662317e52",
   "metadata": {
    "tags": []
   },
   "outputs": [
    {
     "name": "stdout",
     "output_type": "stream",
     "text": [
      "[ 0.84147098  0.90929743  0.14112001 -0.7568025  -0.95892427]\n"
     ]
    }
   ],
   "source": [
    "#Universal functions (ufuncs)\n",
    "arr13 = np.sin(arr1)\n",
    "print(arr13)"
   ]
  },
  {
   "cell_type": "markdown",
   "id": "5968236a",
   "metadata": {},
   "source": [
    "## Advanced NumPy"
   ]
  },
  {
   "cell_type": "code",
   "execution_count": 61,
   "id": "20c3b726-b7d5-4d49-a1af-320216814abe",
   "metadata": {
    "tags": []
   },
   "outputs": [
    {
     "name": "stdout",
     "output_type": "stream",
     "text": [
      "[1 3 5]\n"
     ]
    }
   ],
   "source": [
    "#Fancy indexing\n",
    "indices = np.array([0,2,4])\n",
    "print(arr1[indices])"
   ]
  },
  {
   "cell_type": "code",
   "execution_count": 62,
   "id": "6f71430c-a65c-40eb-987b-ca708d2f7b50",
   "metadata": {
    "tags": []
   },
   "outputs": [
    {
     "name": "stdout",
     "output_type": "stream",
     "text": [
      "[4 5]\n"
     ]
    }
   ],
   "source": [
    "#Boolean indexing\n",
    "bool_arr = arr1 > 3\n",
    "print(arr1[bool_arr])"
   ]
  },
  {
   "cell_type": "code",
   "execution_count": 63,
   "id": "840df871",
   "metadata": {},
   "outputs": [
    {
     "name": "stdout",
     "output_type": "stream",
     "text": [
      "[11 12 13 14 15]\n"
     ]
    }
   ],
   "source": [
    "#Vectorized operations\n",
    "arr14 = arr1 + 10\n",
    "print(arr14)"
   ]
  },
  {
   "cell_type": "code",
   "execution_count": 64,
   "id": "2e839a9b",
   "metadata": {},
   "outputs": [
    {
     "name": "stdout",
     "output_type": "stream",
     "text": [
      "[[11 12 13 14 15]\n",
      " [21 22 23 24 25]\n",
      " [31 32 33 34 35]\n",
      " [41 42 43 44 45]\n",
      " [51 52 53 54 55]]\n"
     ]
    }
   ],
   "source": [
    "#Broadcasting\n",
    "arr15 = arr1 + np.array([[10],[20],[30],[40],[50]])\n",
    "print(arr15)"
   ]
  },
  {
   "cell_type": "code",
   "execution_count": 65,
   "id": "66169ebe",
   "metadata": {},
   "outputs": [
    {
     "name": "stdout",
     "output_type": "stream",
     "text": [
      "Array:\n",
      "[[1 2 3]\n",
      " [4 5 6]\n",
      " [7 8 9]]\n",
      "\n",
      "Selected Elements:\n",
      "[4 8]\n"
     ]
    }
   ],
   "source": [
    "arr15 = np.array([[1, 2, 3],\n",
    " [4, 5, 6],\n",
    " [7, 8, 9]])\n",
    "\n",
    "print('Array:')\n",
    "print(arr15)\n",
    "\n",
    "row_idices = np.array([1,2])\n",
    "column_indices = np.array([0,1])\n",
    "\n",
    "selected_elements = arr15[(row_idices,column_indices)]\n",
    "\n",
    "print('\\nSelected Elements:')\n",
    "print(selected_elements)"
   ]
  },
  {
   "cell_type": "markdown",
   "id": "844770e8",
   "metadata": {},
   "source": [
    "# Introduction to Pandas"
   ]
  },
  {
   "cell_type": "markdown",
   "id": "9e22f609",
   "metadata": {},
   "source": [
    "## Working with series"
   ]
  },
  {
   "cell_type": "code",
   "execution_count": 66,
   "id": "07c82a93",
   "metadata": {},
   "outputs": [],
   "source": [
    "import pandas as pd\n",
    "\n",
    "s1 = pd.Series([1,2,3,4,5])\n",
    "\n",
    "s2 = pd.Series(np.array([1,2,3,4,5]))\n",
    "\n",
    "s3 = pd.Series({'a':1,'b':2,'c':3})"
   ]
  },
  {
   "cell_type": "code",
   "execution_count": 67,
   "id": "d43bdec1",
   "metadata": {},
   "outputs": [
    {
     "name": "stdout",
     "output_type": "stream",
     "text": [
      "1\n",
      "1\n",
      "a    1\n",
      "b    2\n",
      "dtype: int64\n"
     ]
    },
    {
     "name": "stderr",
     "output_type": "stream",
     "text": [
      "C:\\Users\\Devam\\AppData\\Local\\Temp\\ipykernel_26460\\3145362902.py:4: FutureWarning: Series.__getitem__ treating keys as positions is deprecated. In a future version, integer keys will always be treated as labels (consistent with DataFrame behavior). To access a value by position, use `ser.iloc[pos]`\n",
      "  print(s3[0])\n"
     ]
    }
   ],
   "source": [
    "#Idexing and slicing Series\n",
    "print(s3['a'])\n",
    "\n",
    "print(s3[0])\n",
    "\n",
    "print(s3[:2])"
   ]
  },
  {
   "cell_type": "code",
   "execution_count": 68,
   "id": "bedf4df8",
   "metadata": {},
   "outputs": [
    {
     "name": "stdout",
     "output_type": "stream",
     "text": [
      "0     2\n",
      "1     4\n",
      "2     6\n",
      "3     8\n",
      "4    10\n",
      "dtype: int64\n",
      "0     2\n",
      "1     4\n",
      "2     6\n",
      "3     8\n",
      "4    10\n",
      "dtype: int64\n",
      "15\n"
     ]
    }
   ],
   "source": [
    "#Operations on Series\n",
    "s4 = s1 + s2\n",
    "print(s4)\n",
    "\n",
    "s5 = s1 * 2\n",
    "print(s5)\n",
    "\n",
    "print(s1.sum())"
   ]
  },
  {
   "cell_type": "code",
   "execution_count": 69,
   "id": "72a8c6f3",
   "metadata": {},
   "outputs": [
    {
     "name": "stdout",
     "output_type": "stream",
     "text": [
      "0    False\n",
      "1    False\n",
      "2    False\n",
      "3    False\n",
      "4    False\n",
      "dtype: bool\n"
     ]
    }
   ],
   "source": [
    "#Handling missing data\n",
    "s6 = s1.dropna()\n",
    "\n",
    "s7 = s1.fillna(0)\n",
    "\n",
    "print(s1.isnull())"
   ]
  },
  {
   "cell_type": "markdown",
   "id": "543fca89",
   "metadata": {},
   "source": [
    "## Working with DataFrames"
   ]
  },
  {
   "cell_type": "code",
   "execution_count": 70,
   "id": "cfaef99a",
   "metadata": {},
   "outputs": [
    {
     "name": "stdout",
     "output_type": "stream",
     "text": [
      "      Name  Age\n",
      "0    Alice   25\n",
      "1      Bob   30\n",
      "2  Charlie   35\n",
      "      Name  Age\n",
      "0    Alice   25\n",
      "1      Bob   30\n",
      "2  Charlie   35\n"
     ]
    }
   ],
   "source": [
    "#Creating DataFrames\n",
    "\n",
    "data = {'Name': ['Alice','Bob','Charlie'],\n",
    "        'Age': [25,30,35]}\n",
    "\n",
    "df1 = pd.DataFrame(data)\n",
    "print(df1)\n",
    "\n",
    "data = [['Alice',25],['Bob',30],['Charlie',35]]\n",
    "df2 = pd.DataFrame(data, columns=['Name','Age'])\n",
    "print(df2)"
   ]
  },
  {
   "cell_type": "code",
   "execution_count": 71,
   "id": "99bb4f4c",
   "metadata": {},
   "outputs": [
    {
     "name": "stdout",
     "output_type": "stream",
     "text": [
      "Alice\n",
      "Alice\n",
      "    Name  Age\n",
      "0  Alice   25\n",
      "1    Bob   30\n"
     ]
    }
   ],
   "source": [
    "#Indexing and slicing DataFrames\n",
    "print(df1.loc[0, 'Name'])\n",
    "\n",
    "print(df1.iloc[0,0])\n",
    "\n",
    "print(df1[:2])"
   ]
  },
  {
   "cell_type": "code",
   "execution_count": 72,
   "id": "d0ab422c",
   "metadata": {},
   "outputs": [
    {
     "name": "stdout",
     "output_type": "stream",
     "text": [
      "      Name  Age\n",
      "0    Alice   25\n",
      "1      Bob   30\n",
      "2  Charlie   35\n",
      "      Name  Age\n",
      "2  Charlie   35\n",
      "0      Alice\n",
      "1        Bob\n",
      "2    Charlie\n",
      "Name: Name, dtype: object\n"
     ]
    }
   ],
   "source": [
    "#Basic Operations\n",
    "\n",
    "df1_sorted = df1.sort_values(by='Age')\n",
    "print(df1_sorted)\n",
    "\n",
    "df1_filtered = df1[df1['Age'] > 30]\n",
    "print(df1_filtered)\n",
    "\n",
    "names = df1['Name']\n",
    "print(names)"
   ]
  },
  {
   "cell_type": "code",
   "execution_count": 73,
   "id": "7ff1e0a7",
   "metadata": {},
   "outputs": [
    {
     "name": "stdout",
     "output_type": "stream",
     "text": [
      "      Name  Age  Gender\n",
      "0    Alice   25  Female\n",
      "1      Bob   30    Male\n",
      "2  Charlie   35    Male\n",
      "      Name  Age\n",
      "0    Alice   25\n",
      "1      Bob   30\n",
      "2  Charlie   35\n",
      "      Name  Age\n",
      "0    Alice   26\n",
      "1      Bob   31\n",
      "2  Charlie   36\n"
     ]
    }
   ],
   "source": [
    "#Data manipulation\n",
    "\n",
    "df1['Gender'] = ['Female','Male','Male']\n",
    "print(df1)\n",
    "\n",
    "del df1['Gender']\n",
    "print(df1)\n",
    "\n",
    "df1['Age'] = df1['Age'] + 1\n",
    "print(df1)"
   ]
  },
  {
   "cell_type": "markdown",
   "id": "5cb7b4a2",
   "metadata": {},
   "source": [
    "## Data Cleaning and Preparation"
   ]
  },
  {
   "cell_type": "code",
   "execution_count": 74,
   "id": "8d1dd751",
   "metadata": {},
   "outputs": [
    {
     "name": "stdout",
     "output_type": "stream",
     "text": [
      "Name    False\n",
      "Age     False\n",
      "dtype: bool\n"
     ]
    }
   ],
   "source": [
    "#Handling missing values\n",
    "df1_cleaned = df1.dropna()\n",
    "\n",
    "df1_filled = df1.fillna(0)\n",
    "\n",
    "print(df1.isnull().any())"
   ]
  },
  {
   "cell_type": "code",
   "execution_count": 75,
   "id": "e0c094d2",
   "metadata": {},
   "outputs": [
    {
     "ename": "TypeError",
     "evalue": "unsupported operand type(s) for -: 'str' and 'str'",
     "output_type": "error",
     "traceback": [
      "\u001b[1;31m---------------------------------------------------------------------------\u001b[0m",
      "\u001b[1;31mTypeError\u001b[0m                                 Traceback (most recent call last)",
      "File \u001b[1;32m~\\AppData\\Local\\Packages\\PythonSoftwareFoundation.Python.3.12_qbz5n2kfra8p0\\LocalCache\\local-packages\\Python312\\site-packages\\pandas\\core\\ops\\array_ops.py:218\u001b[0m, in \u001b[0;36m_na_arithmetic_op\u001b[1;34m(left, right, op, is_cmp)\u001b[0m\n\u001b[0;32m    217\u001b[0m \u001b[38;5;28;01mtry\u001b[39;00m:\n\u001b[1;32m--> 218\u001b[0m     result \u001b[38;5;241m=\u001b[39m \u001b[43mfunc\u001b[49m\u001b[43m(\u001b[49m\u001b[43mleft\u001b[49m\u001b[43m,\u001b[49m\u001b[43m \u001b[49m\u001b[43mright\u001b[49m\u001b[43m)\u001b[49m\n\u001b[0;32m    219\u001b[0m \u001b[38;5;28;01mexcept\u001b[39;00m \u001b[38;5;167;01mTypeError\u001b[39;00m:\n",
      "File \u001b[1;32m~\\AppData\\Local\\Packages\\PythonSoftwareFoundation.Python.3.12_qbz5n2kfra8p0\\LocalCache\\local-packages\\Python312\\site-packages\\pandas\\core\\computation\\expressions.py:242\u001b[0m, in \u001b[0;36mevaluate\u001b[1;34m(op, a, b, use_numexpr)\u001b[0m\n\u001b[0;32m    240\u001b[0m     \u001b[38;5;28;01mif\u001b[39;00m use_numexpr:\n\u001b[0;32m    241\u001b[0m         \u001b[38;5;66;03m# error: \"None\" not callable\u001b[39;00m\n\u001b[1;32m--> 242\u001b[0m         \u001b[38;5;28;01mreturn\u001b[39;00m \u001b[43m_evaluate\u001b[49m\u001b[43m(\u001b[49m\u001b[43mop\u001b[49m\u001b[43m,\u001b[49m\u001b[43m \u001b[49m\u001b[43mop_str\u001b[49m\u001b[43m,\u001b[49m\u001b[43m \u001b[49m\u001b[43ma\u001b[49m\u001b[43m,\u001b[49m\u001b[43m \u001b[49m\u001b[43mb\u001b[49m\u001b[43m)\u001b[49m  \u001b[38;5;66;03m# type: ignore[misc]\u001b[39;00m\n\u001b[0;32m    243\u001b[0m \u001b[38;5;28;01mreturn\u001b[39;00m _evaluate_standard(op, op_str, a, b)\n",
      "File \u001b[1;32m~\\AppData\\Local\\Packages\\PythonSoftwareFoundation.Python.3.12_qbz5n2kfra8p0\\LocalCache\\local-packages\\Python312\\site-packages\\pandas\\core\\computation\\expressions.py:73\u001b[0m, in \u001b[0;36m_evaluate_standard\u001b[1;34m(op, op_str, a, b)\u001b[0m\n\u001b[0;32m     72\u001b[0m     _store_test_result(\u001b[38;5;28;01mFalse\u001b[39;00m)\n\u001b[1;32m---> 73\u001b[0m \u001b[38;5;28;01mreturn\u001b[39;00m \u001b[43mop\u001b[49m\u001b[43m(\u001b[49m\u001b[43ma\u001b[49m\u001b[43m,\u001b[49m\u001b[43m \u001b[49m\u001b[43mb\u001b[49m\u001b[43m)\u001b[49m\n",
      "\u001b[1;31mTypeError\u001b[0m: unsupported operand type(s) for -: 'str' and 'str'",
      "\nDuring handling of the above exception, another exception occurred:\n",
      "\u001b[1;31mTypeError\u001b[0m                                 Traceback (most recent call last)",
      "Cell \u001b[1;32mIn[75], line 2\u001b[0m\n\u001b[0;32m      1\u001b[0m \u001b[38;5;66;03m#Data normalization(numerical value only)\u001b[39;00m\n\u001b[1;32m----> 2\u001b[0m df1_normalized \u001b[38;5;241m=\u001b[39m (\u001b[43mdf1\u001b[49m\u001b[38;5;241;43m-\u001b[39;49m\u001b[43mdf1\u001b[49m\u001b[38;5;241;43m.\u001b[39;49m\u001b[43mmin\u001b[49m\u001b[43m(\u001b[49m\u001b[43m)\u001b[49m) \u001b[38;5;241m/\u001b[39m (df1\u001b[38;5;241m.\u001b[39mmax() \u001b[38;5;241m-\u001b[39m df1\u001b[38;5;241m.\u001b[39mmin())\n\u001b[0;32m      4\u001b[0m df1_standardized \u001b[38;5;241m=\u001b[39m (df1 \u001b[38;5;241m-\u001b[39m df1\u001b[38;5;241m.\u001b[39mmean()) \u001b[38;5;241m/\u001b[39m df1\u001b[38;5;241m.\u001b[39mstd()\n",
      "File \u001b[1;32m~\\AppData\\Local\\Packages\\PythonSoftwareFoundation.Python.3.12_qbz5n2kfra8p0\\LocalCache\\local-packages\\Python312\\site-packages\\pandas\\core\\ops\\common.py:76\u001b[0m, in \u001b[0;36m_unpack_zerodim_and_defer.<locals>.new_method\u001b[1;34m(self, other)\u001b[0m\n\u001b[0;32m     72\u001b[0m             \u001b[38;5;28;01mreturn\u001b[39;00m \u001b[38;5;28mNotImplemented\u001b[39m\n\u001b[0;32m     74\u001b[0m other \u001b[38;5;241m=\u001b[39m item_from_zerodim(other)\n\u001b[1;32m---> 76\u001b[0m \u001b[38;5;28;01mreturn\u001b[39;00m \u001b[43mmethod\u001b[49m\u001b[43m(\u001b[49m\u001b[38;5;28;43mself\u001b[39;49m\u001b[43m,\u001b[49m\u001b[43m \u001b[49m\u001b[43mother\u001b[49m\u001b[43m)\u001b[49m\n",
      "File \u001b[1;32m~\\AppData\\Local\\Packages\\PythonSoftwareFoundation.Python.3.12_qbz5n2kfra8p0\\LocalCache\\local-packages\\Python312\\site-packages\\pandas\\core\\arraylike.py:194\u001b[0m, in \u001b[0;36mOpsMixin.__sub__\u001b[1;34m(self, other)\u001b[0m\n\u001b[0;32m    192\u001b[0m \u001b[38;5;129m@unpack_zerodim_and_defer\u001b[39m(\u001b[38;5;124m\"\u001b[39m\u001b[38;5;124m__sub__\u001b[39m\u001b[38;5;124m\"\u001b[39m)\n\u001b[0;32m    193\u001b[0m \u001b[38;5;28;01mdef\u001b[39;00m \u001b[38;5;21m__sub__\u001b[39m(\u001b[38;5;28mself\u001b[39m, other):\n\u001b[1;32m--> 194\u001b[0m     \u001b[38;5;28;01mreturn\u001b[39;00m \u001b[38;5;28;43mself\u001b[39;49m\u001b[38;5;241;43m.\u001b[39;49m\u001b[43m_arith_method\u001b[49m\u001b[43m(\u001b[49m\u001b[43mother\u001b[49m\u001b[43m,\u001b[49m\u001b[43m \u001b[49m\u001b[43moperator\u001b[49m\u001b[38;5;241;43m.\u001b[39;49m\u001b[43msub\u001b[49m\u001b[43m)\u001b[49m\n",
      "File \u001b[1;32m~\\AppData\\Local\\Packages\\PythonSoftwareFoundation.Python.3.12_qbz5n2kfra8p0\\LocalCache\\local-packages\\Python312\\site-packages\\pandas\\core\\frame.py:7897\u001b[0m, in \u001b[0;36mDataFrame._arith_method\u001b[1;34m(self, other, op)\u001b[0m\n\u001b[0;32m   7894\u001b[0m \u001b[38;5;28mself\u001b[39m, other \u001b[38;5;241m=\u001b[39m \u001b[38;5;28mself\u001b[39m\u001b[38;5;241m.\u001b[39m_align_for_op(other, axis, flex\u001b[38;5;241m=\u001b[39m\u001b[38;5;28;01mTrue\u001b[39;00m, level\u001b[38;5;241m=\u001b[39m\u001b[38;5;28;01mNone\u001b[39;00m)\n\u001b[0;32m   7896\u001b[0m \u001b[38;5;28;01mwith\u001b[39;00m np\u001b[38;5;241m.\u001b[39merrstate(\u001b[38;5;28mall\u001b[39m\u001b[38;5;241m=\u001b[39m\u001b[38;5;124m\"\u001b[39m\u001b[38;5;124mignore\u001b[39m\u001b[38;5;124m\"\u001b[39m):\n\u001b[1;32m-> 7897\u001b[0m     new_data \u001b[38;5;241m=\u001b[39m \u001b[38;5;28;43mself\u001b[39;49m\u001b[38;5;241;43m.\u001b[39;49m\u001b[43m_dispatch_frame_op\u001b[49m\u001b[43m(\u001b[49m\u001b[43mother\u001b[49m\u001b[43m,\u001b[49m\u001b[43m \u001b[49m\u001b[43mop\u001b[49m\u001b[43m,\u001b[49m\u001b[43m \u001b[49m\u001b[43maxis\u001b[49m\u001b[38;5;241;43m=\u001b[39;49m\u001b[43maxis\u001b[49m\u001b[43m)\u001b[49m\n\u001b[0;32m   7898\u001b[0m \u001b[38;5;28;01mreturn\u001b[39;00m \u001b[38;5;28mself\u001b[39m\u001b[38;5;241m.\u001b[39m_construct_result(new_data)\n",
      "File \u001b[1;32m~\\AppData\\Local\\Packages\\PythonSoftwareFoundation.Python.3.12_qbz5n2kfra8p0\\LocalCache\\local-packages\\Python312\\site-packages\\pandas\\core\\frame.py:7940\u001b[0m, in \u001b[0;36mDataFrame._dispatch_frame_op\u001b[1;34m(self, right, func, axis)\u001b[0m\n\u001b[0;32m   7934\u001b[0m     \u001b[38;5;28;01massert\u001b[39;00m \u001b[38;5;28mself\u001b[39m\u001b[38;5;241m.\u001b[39mcolumns\u001b[38;5;241m.\u001b[39mequals(right\u001b[38;5;241m.\u001b[39mcolumns)\n\u001b[0;32m   7935\u001b[0m     \u001b[38;5;66;03m# TODO: The previous assertion `assert right._indexed_same(self)`\u001b[39;00m\n\u001b[0;32m   7936\u001b[0m     \u001b[38;5;66;03m#  fails in cases with empty columns reached via\u001b[39;00m\n\u001b[0;32m   7937\u001b[0m     \u001b[38;5;66;03m#  _frame_arith_method_with_reindex\u001b[39;00m\n\u001b[0;32m   7938\u001b[0m \n\u001b[0;32m   7939\u001b[0m     \u001b[38;5;66;03m# TODO operate_blockwise expects a manager of the same type\u001b[39;00m\n\u001b[1;32m-> 7940\u001b[0m     bm \u001b[38;5;241m=\u001b[39m \u001b[38;5;28;43mself\u001b[39;49m\u001b[38;5;241;43m.\u001b[39;49m\u001b[43m_mgr\u001b[49m\u001b[38;5;241;43m.\u001b[39;49m\u001b[43moperate_blockwise\u001b[49m\u001b[43m(\u001b[49m\n\u001b[0;32m   7941\u001b[0m \u001b[43m        \u001b[49m\u001b[38;5;66;43;03m# error: Argument 1 to \"operate_blockwise\" of \"ArrayManager\" has\u001b[39;49;00m\n\u001b[0;32m   7942\u001b[0m \u001b[43m        \u001b[49m\u001b[38;5;66;43;03m# incompatible type \"Union[ArrayManager, BlockManager]\"; expected\u001b[39;49;00m\n\u001b[0;32m   7943\u001b[0m \u001b[43m        \u001b[49m\u001b[38;5;66;43;03m# \"ArrayManager\"\u001b[39;49;00m\n\u001b[0;32m   7944\u001b[0m \u001b[43m        \u001b[49m\u001b[38;5;66;43;03m# error: Argument 1 to \"operate_blockwise\" of \"BlockManager\" has\u001b[39;49;00m\n\u001b[0;32m   7945\u001b[0m \u001b[43m        \u001b[49m\u001b[38;5;66;43;03m# incompatible type \"Union[ArrayManager, BlockManager]\"; expected\u001b[39;49;00m\n\u001b[0;32m   7946\u001b[0m \u001b[43m        \u001b[49m\u001b[38;5;66;43;03m# \"BlockManager\"\u001b[39;49;00m\n\u001b[0;32m   7947\u001b[0m \u001b[43m        \u001b[49m\u001b[43mright\u001b[49m\u001b[38;5;241;43m.\u001b[39;49m\u001b[43m_mgr\u001b[49m\u001b[43m,\u001b[49m\u001b[43m  \u001b[49m\u001b[38;5;66;43;03m# type: ignore[arg-type]\u001b[39;49;00m\n\u001b[0;32m   7948\u001b[0m \u001b[43m        \u001b[49m\u001b[43marray_op\u001b[49m\u001b[43m,\u001b[49m\n\u001b[0;32m   7949\u001b[0m \u001b[43m    \u001b[49m\u001b[43m)\u001b[49m\n\u001b[0;32m   7950\u001b[0m     \u001b[38;5;28;01mreturn\u001b[39;00m \u001b[38;5;28mself\u001b[39m\u001b[38;5;241m.\u001b[39m_constructor_from_mgr(bm, axes\u001b[38;5;241m=\u001b[39mbm\u001b[38;5;241m.\u001b[39maxes)\n\u001b[0;32m   7952\u001b[0m \u001b[38;5;28;01melif\u001b[39;00m \u001b[38;5;28misinstance\u001b[39m(right, Series) \u001b[38;5;129;01mand\u001b[39;00m axis \u001b[38;5;241m==\u001b[39m \u001b[38;5;241m1\u001b[39m:\n\u001b[0;32m   7953\u001b[0m     \u001b[38;5;66;03m# axis=1 means we want to operate row-by-row\u001b[39;00m\n",
      "File \u001b[1;32m~\\AppData\\Local\\Packages\\PythonSoftwareFoundation.Python.3.12_qbz5n2kfra8p0\\LocalCache\\local-packages\\Python312\\site-packages\\pandas\\core\\internals\\managers.py:1512\u001b[0m, in \u001b[0;36mBlockManager.operate_blockwise\u001b[1;34m(self, other, array_op)\u001b[0m\n\u001b[0;32m   1508\u001b[0m \u001b[38;5;28;01mdef\u001b[39;00m \u001b[38;5;21moperate_blockwise\u001b[39m(\u001b[38;5;28mself\u001b[39m, other: BlockManager, array_op) \u001b[38;5;241m-\u001b[39m\u001b[38;5;241m>\u001b[39m BlockManager:\n\u001b[0;32m   1509\u001b[0m \u001b[38;5;250m    \u001b[39m\u001b[38;5;124;03m\"\"\"\u001b[39;00m\n\u001b[0;32m   1510\u001b[0m \u001b[38;5;124;03m    Apply array_op blockwise with another (aligned) BlockManager.\u001b[39;00m\n\u001b[0;32m   1511\u001b[0m \u001b[38;5;124;03m    \"\"\"\u001b[39;00m\n\u001b[1;32m-> 1512\u001b[0m     \u001b[38;5;28;01mreturn\u001b[39;00m \u001b[43moperate_blockwise\u001b[49m\u001b[43m(\u001b[49m\u001b[38;5;28;43mself\u001b[39;49m\u001b[43m,\u001b[49m\u001b[43m \u001b[49m\u001b[43mother\u001b[49m\u001b[43m,\u001b[49m\u001b[43m \u001b[49m\u001b[43marray_op\u001b[49m\u001b[43m)\u001b[49m\n",
      "File \u001b[1;32m~\\AppData\\Local\\Packages\\PythonSoftwareFoundation.Python.3.12_qbz5n2kfra8p0\\LocalCache\\local-packages\\Python312\\site-packages\\pandas\\core\\internals\\ops.py:65\u001b[0m, in \u001b[0;36moperate_blockwise\u001b[1;34m(left, right, array_op)\u001b[0m\n\u001b[0;32m     63\u001b[0m res_blks: \u001b[38;5;28mlist\u001b[39m[Block] \u001b[38;5;241m=\u001b[39m []\n\u001b[0;32m     64\u001b[0m \u001b[38;5;28;01mfor\u001b[39;00m lvals, rvals, locs, left_ea, right_ea, rblk \u001b[38;5;129;01min\u001b[39;00m _iter_block_pairs(left, right):\n\u001b[1;32m---> 65\u001b[0m     res_values \u001b[38;5;241m=\u001b[39m \u001b[43marray_op\u001b[49m\u001b[43m(\u001b[49m\u001b[43mlvals\u001b[49m\u001b[43m,\u001b[49m\u001b[43m \u001b[49m\u001b[43mrvals\u001b[49m\u001b[43m)\u001b[49m\n\u001b[0;32m     66\u001b[0m     \u001b[38;5;28;01mif\u001b[39;00m (\n\u001b[0;32m     67\u001b[0m         left_ea\n\u001b[0;32m     68\u001b[0m         \u001b[38;5;129;01mand\u001b[39;00m \u001b[38;5;129;01mnot\u001b[39;00m right_ea\n\u001b[0;32m     69\u001b[0m         \u001b[38;5;129;01mand\u001b[39;00m \u001b[38;5;28mhasattr\u001b[39m(res_values, \u001b[38;5;124m\"\u001b[39m\u001b[38;5;124mreshape\u001b[39m\u001b[38;5;124m\"\u001b[39m)\n\u001b[0;32m     70\u001b[0m         \u001b[38;5;129;01mand\u001b[39;00m \u001b[38;5;129;01mnot\u001b[39;00m is_1d_only_ea_dtype(res_values\u001b[38;5;241m.\u001b[39mdtype)\n\u001b[0;32m     71\u001b[0m     ):\n\u001b[0;32m     72\u001b[0m         res_values \u001b[38;5;241m=\u001b[39m res_values\u001b[38;5;241m.\u001b[39mreshape(\u001b[38;5;241m1\u001b[39m, \u001b[38;5;241m-\u001b[39m\u001b[38;5;241m1\u001b[39m)\n",
      "File \u001b[1;32m~\\AppData\\Local\\Packages\\PythonSoftwareFoundation.Python.3.12_qbz5n2kfra8p0\\LocalCache\\local-packages\\Python312\\site-packages\\pandas\\core\\ops\\array_ops.py:283\u001b[0m, in \u001b[0;36marithmetic_op\u001b[1;34m(left, right, op)\u001b[0m\n\u001b[0;32m    279\u001b[0m     _bool_arith_check(op, left, right)  \u001b[38;5;66;03m# type: ignore[arg-type]\u001b[39;00m\n\u001b[0;32m    281\u001b[0m     \u001b[38;5;66;03m# error: Argument 1 to \"_na_arithmetic_op\" has incompatible type\u001b[39;00m\n\u001b[0;32m    282\u001b[0m     \u001b[38;5;66;03m# \"Union[ExtensionArray, ndarray[Any, Any]]\"; expected \"ndarray[Any, Any]\"\u001b[39;00m\n\u001b[1;32m--> 283\u001b[0m     res_values \u001b[38;5;241m=\u001b[39m \u001b[43m_na_arithmetic_op\u001b[49m\u001b[43m(\u001b[49m\u001b[43mleft\u001b[49m\u001b[43m,\u001b[49m\u001b[43m \u001b[49m\u001b[43mright\u001b[49m\u001b[43m,\u001b[49m\u001b[43m \u001b[49m\u001b[43mop\u001b[49m\u001b[43m)\u001b[49m  \u001b[38;5;66;03m# type: ignore[arg-type]\u001b[39;00m\n\u001b[0;32m    285\u001b[0m \u001b[38;5;28;01mreturn\u001b[39;00m res_values\n",
      "File \u001b[1;32m~\\AppData\\Local\\Packages\\PythonSoftwareFoundation.Python.3.12_qbz5n2kfra8p0\\LocalCache\\local-packages\\Python312\\site-packages\\pandas\\core\\ops\\array_ops.py:227\u001b[0m, in \u001b[0;36m_na_arithmetic_op\u001b[1;34m(left, right, op, is_cmp)\u001b[0m\n\u001b[0;32m    219\u001b[0m \u001b[38;5;28;01mexcept\u001b[39;00m \u001b[38;5;167;01mTypeError\u001b[39;00m:\n\u001b[0;32m    220\u001b[0m     \u001b[38;5;28;01mif\u001b[39;00m \u001b[38;5;129;01mnot\u001b[39;00m is_cmp \u001b[38;5;129;01mand\u001b[39;00m (\n\u001b[0;32m    221\u001b[0m         left\u001b[38;5;241m.\u001b[39mdtype \u001b[38;5;241m==\u001b[39m \u001b[38;5;28mobject\u001b[39m \u001b[38;5;129;01mor\u001b[39;00m \u001b[38;5;28mgetattr\u001b[39m(right, \u001b[38;5;124m\"\u001b[39m\u001b[38;5;124mdtype\u001b[39m\u001b[38;5;124m\"\u001b[39m, \u001b[38;5;28;01mNone\u001b[39;00m) \u001b[38;5;241m==\u001b[39m \u001b[38;5;28mobject\u001b[39m\n\u001b[0;32m    222\u001b[0m     ):\n\u001b[1;32m   (...)\u001b[0m\n\u001b[0;32m    225\u001b[0m         \u001b[38;5;66;03m# Don't do this for comparisons, as that will handle complex numbers\u001b[39;00m\n\u001b[0;32m    226\u001b[0m         \u001b[38;5;66;03m#  incorrectly, see GH#32047\u001b[39;00m\n\u001b[1;32m--> 227\u001b[0m         result \u001b[38;5;241m=\u001b[39m \u001b[43m_masked_arith_op\u001b[49m\u001b[43m(\u001b[49m\u001b[43mleft\u001b[49m\u001b[43m,\u001b[49m\u001b[43m \u001b[49m\u001b[43mright\u001b[49m\u001b[43m,\u001b[49m\u001b[43m \u001b[49m\u001b[43mop\u001b[49m\u001b[43m)\u001b[49m\n\u001b[0;32m    228\u001b[0m     \u001b[38;5;28;01melse\u001b[39;00m:\n\u001b[0;32m    229\u001b[0m         \u001b[38;5;28;01mraise\u001b[39;00m\n",
      "File \u001b[1;32m~\\AppData\\Local\\Packages\\PythonSoftwareFoundation.Python.3.12_qbz5n2kfra8p0\\LocalCache\\local-packages\\Python312\\site-packages\\pandas\\core\\ops\\array_ops.py:163\u001b[0m, in \u001b[0;36m_masked_arith_op\u001b[1;34m(x, y, op)\u001b[0m\n\u001b[0;32m    161\u001b[0m     \u001b[38;5;66;03m# See GH#5284, GH#5035, GH#19448 for historical reference\u001b[39;00m\n\u001b[0;32m    162\u001b[0m     \u001b[38;5;28;01mif\u001b[39;00m mask\u001b[38;5;241m.\u001b[39many():\n\u001b[1;32m--> 163\u001b[0m         result[mask] \u001b[38;5;241m=\u001b[39m \u001b[43mop\u001b[49m\u001b[43m(\u001b[49m\u001b[43mxrav\u001b[49m\u001b[43m[\u001b[49m\u001b[43mmask\u001b[49m\u001b[43m]\u001b[49m\u001b[43m,\u001b[49m\u001b[43m \u001b[49m\u001b[43myrav\u001b[49m\u001b[43m[\u001b[49m\u001b[43mmask\u001b[49m\u001b[43m]\u001b[49m\u001b[43m)\u001b[49m\n\u001b[0;32m    165\u001b[0m \u001b[38;5;28;01melse\u001b[39;00m:\n\u001b[0;32m    166\u001b[0m     \u001b[38;5;28;01mif\u001b[39;00m \u001b[38;5;129;01mnot\u001b[39;00m is_scalar(y):\n",
      "\u001b[1;31mTypeError\u001b[0m: unsupported operand type(s) for -: 'str' and 'str'"
     ]
    }
   ],
   "source": [
    "#Data normalization(numerical value only)\n",
    "df1_normalized = (df1-df1.min()) / (df1.max() - df1.min())\n",
    "\n",
    "df1_standardized = (df1 - df1.mean()) / df1.std()"
   ]
  },
  {
   "cell_type": "code",
   "execution_count": null,
   "id": "2c2d181f",
   "metadata": {},
   "outputs": [
    {
     "name": "stdout",
     "output_type": "stream",
     "text": [
      "      Name  Age   Log_Age  Gender_Female  Gender_Male\n",
      "0    Alice   27  3.295837           True        False\n",
      "1      Bob   32  3.465736          False         True\n",
      "2  Charlie   37  3.610918          False         True\n",
      "<class 'pandas.core.frame.DataFrame'>\n",
      "RangeIndex: 3 entries, 0 to 2\n",
      "Data columns (total 4 columns):\n",
      " #   Column   Non-Null Count  Dtype  \n",
      "---  ------   --------------  -----  \n",
      " 0   Name     3 non-null      object \n",
      " 1   Age      3 non-null      int64  \n",
      " 2   Log_Age  3 non-null      float64\n",
      " 3   Gender   3 non-null      object \n",
      "dtypes: float64(1), int64(1), object(2)\n",
      "memory usage: 228.0+ bytes\n"
     ]
    }
   ],
   "source": [
    "#Data transformation\n",
    "df1['Log_Age'] = np.log(df1['Age'])\n",
    "\n",
    "df1['Gender'] = ['Female','Male','Male']\n",
    "df1_encoded = pd.get_dummies(df1, columns=['Gender'])\n",
    "print(df1_encoded)\n"
   ]
  },
  {
   "cell_type": "code",
   "execution_count": null,
   "id": "b6e011a5",
   "metadata": {},
   "outputs": [
    {
     "name": "stdout",
     "output_type": "stream",
     "text": [
      "<pandas.core.groupby.generic.DataFrameGroupBy object at 0x0000021E38A5BF50>\n",
      "Age\n",
      "27    27.0\n",
      "32    32.0\n",
      "37    37.0\n",
      "Name: Age, dtype: float64\n"
     ]
    }
   ],
   "source": [
    "#Data aggragation and grouping\n",
    "age_groups = df1.groupby('Age')\n",
    "print(age_groups)\n",
    "\n",
    "mean_age = age_groups['Age'].mean()\n",
    "print(mean_age)"
   ]
  },
  {
   "cell_type": "markdown",
   "id": "8f9efac3",
   "metadata": {},
   "source": [
    "## Advance Pandas"
   ]
  },
  {
   "cell_type": "code",
   "execution_count": null,
   "id": "3fc46b0d",
   "metadata": {},
   "outputs": [
    {
     "name": "stdout",
     "output_type": "stream",
     "text": [
      "      Name   Age   Log_Age  Gender    A    B\n",
      "0    Alice  27.0  3.295837  Female  NaN  NaN\n",
      "1      Bob  32.0  3.465736    Male  NaN  NaN\n",
      "2  Charlie  37.0  3.610918    Male  NaN  NaN\n",
      "0      NaN   NaN       NaN     NaN   A3   B3\n",
      "1      NaN   NaN       NaN     NaN   A4   B4\n",
      "2      NaN   NaN       NaN     NaN   A5   B5\n",
      "      Name  Age   Log_Age  Gender   A   B\n",
      "0    Alice   27  3.295837  Female  A3  B3\n",
      "1      Bob   32  3.465736    Male  A4  B4\n",
      "2  Charlie   37  3.610918    Male  A5  B5\n"
     ]
    }
   ],
   "source": [
    "#Concatenating DataFrames\n",
    "\n",
    "pd.DataFrame({'A': ['A0', 'A1', 'A2'],\n",
    " 'B': ['B0', 'B1', 'B2']})\n",
    "\n",
    "df2 = pd.DataFrame({'A': ['A3', 'A4', 'A5'],\n",
    " 'B': ['B3', 'B4', 'B5']})\n",
    "\n",
    "result_row = pd.concat([df1,df2])\n",
    "print(result_row)\n",
    "\n",
    "result_col = pd.concat([df1,df2], axis=1)\n",
    "print(result_col)\n"
   ]
  },
  {
   "cell_type": "code",
   "execution_count": null,
   "id": "bcafba70",
   "metadata": {},
   "outputs": [
    {
     "name": "stdout",
     "output_type": "stream",
     "text": [
      "  key value_x value_y\n",
      "0  K1      V1      V1\n",
      "1  K2      V2      V2\n",
      "  key value_x value_y\n",
      "0  K0      V0     NaN\n",
      "1  K1      V1      V1\n",
      "2  K2      V2      V2\n",
      "  key value_x value_y\n",
      "0  K1      V1      V1\n",
      "1  K2      V2      V2\n",
      "2  K3     NaN      V3\n",
      "  key value_x value_y\n",
      "0  K0      V0     NaN\n",
      "1  K1      V1      V1\n",
      "2  K2      V2      V2\n",
      "3  K3     NaN      V3\n"
     ]
    }
   ],
   "source": [
    "#Merging DataFrames\n",
    "\n",
    "left = pd.DataFrame({'key': ['K0', 'K1', 'K2'],\n",
    " 'value': ['V0', 'V1', 'V2']})\n",
    "\n",
    "right = pd.DataFrame({'key': ['K1', 'K2', 'K3'],\n",
    " 'value': ['V1', 'V2', 'V3']})\n",
    "\n",
    "inner_join = pd.merge(left, right, on='key', how='inner')\n",
    "print(inner_join)\n",
    "\n",
    "left_join = pd.merge(left, right, on='key', how='left')\n",
    "print(left_join)\n",
    "\n",
    "right_join = pd.merge(left, right, on='key', how='right')\n",
    "print(right_join)\n",
    "\n",
    "outer_join = pd.merge(left, right, on='key',how='outer')\n",
    "print(outer_join)"
   ]
  },
  {
   "cell_type": "code",
   "execution_count": null,
   "id": "2ca84fb8",
   "metadata": {},
   "outputs": [
    {
     "name": "stdout",
     "output_type": "stream",
     "text": [
      "   value1  value2\n",
      "a       1       4\n",
      "b       2       5\n"
     ]
    }
   ],
   "source": [
    "#Joining DataFrames\n",
    "\n",
    "left = pd.DataFrame({'value1': [1, 2, 3]}, index=['a', 'b', 'c'])\n",
    "right = pd.DataFrame({'value2': [4, 5, 6]}, index=['a', 'b', 'd'])\n",
    "\n",
    "join_df = left.join(right, how='inner')\n",
    "print(join_df)"
   ]
  },
  {
   "cell_type": "markdown",
   "id": "901c86e6",
   "metadata": {},
   "source": [
    "# Technical Level Questions and Exercises"
   ]
  },
  {
   "cell_type": "code",
   "execution_count": null,
   "id": "01469ffb",
   "metadata": {},
   "outputs": [
    {
     "name": "stdout",
     "output_type": "stream",
     "text": [
      "[[19 22]\n",
      " [43 50]]\n",
      "[[19 22]\n",
      " [43 50]]\n"
     ]
    }
   ],
   "source": [
    "## Question: Multiply matrices A and B\n",
    "\n",
    "A = np.array([[1, 2], [3, 4]])\n",
    "B = np.array([[5, 6], [7, 8]])\n",
    "\n",
    "C = np.dot(A,B)\n",
    "D = A @ B \n",
    "\n",
    "print(C)\n",
    "print(D)"
   ]
  },
  {
   "cell_type": "code",
   "execution_count": null,
   "id": "1386e827",
   "metadata": {},
   "outputs": [
    {
     "name": "stdout",
     "output_type": "stream",
     "text": [
      "[[-2.   1. ]\n",
      " [ 1.5 -0.5]]\n"
     ]
    }
   ],
   "source": [
    "## Question: Matrix Inversion - Find the inverse of matrix A.\n",
    "\n",
    "A_inv = np.linalg.inv(A)\n",
    "print(A_inv)"
   ]
  },
  {
   "cell_type": "code",
   "execution_count": null,
   "id": "3817bd86",
   "metadata": {},
   "outputs": [
    {
     "name": "stdout",
     "output_type": "stream",
     "text": [
      "[-0.37228132  5.37228132]\n",
      "[[-0.82456484 -0.41597356]\n",
      " [ 0.56576746 -0.90937671]]\n"
     ]
    }
   ],
   "source": [
    "## Question: Calculate the eigenvalues and eigenvectors of matrix A.\n",
    "\n",
    "eigenvalues, eigenvectors = np.linalg.eig(A)\n",
    "print(eigenvalues)\n",
    "print(eigenvectors)"
   ]
  },
  {
   "cell_type": "code",
   "execution_count": null,
   "id": "98cb9a89",
   "metadata": {},
   "outputs": [
    {
     "name": "stdout",
     "output_type": "stream",
     "text": [
      "[2. 3.]\n"
     ]
    }
   ],
   "source": [
    "## Question: Solve the system of equations 3x + y = 9 and x + 2y = 8.\n",
    "\n",
    "A = np.array([[3,1],[1,2]])\n",
    "B = np.array([9,8])\n",
    "x = np.linalg.solve(A,B)\n",
    "print(x)"
   ]
  },
  {
   "cell_type": "markdown",
   "id": "5127db74",
   "metadata": {},
   "source": [
    "# NumPy Practice Questions:"
   ]
  },
  {
   "cell_type": "code",
   "execution_count": null,
   "id": "170dd95c",
   "metadata": {},
   "outputs": [
    {
     "name": "stdout",
     "output_type": "stream",
     "text": [
      "[ 1  2  3  4  5  6  7  8  9 10]\n"
     ]
    }
   ],
   "source": [
    "## Q1: Array Creation: Create a NumPy array of integers from 1 to 10.\n",
    "\n",
    "array = np.arange(1,11)\n",
    "print(array)"
   ]
  },
  {
   "cell_type": "code",
   "execution_count": null,
   "id": "c2f84bd9",
   "metadata": {},
   "outputs": [
    {
     "name": "stdout",
     "output_type": "stream",
     "text": [
      "[ 7  9 11 13 15]\n",
      "[-5 -5 -5 -5 -5]\n",
      "[ 6 14 24 36 50]\n",
      "[0.16666667 0.28571429 0.375      0.44444444 0.5       ]\n"
     ]
    }
   ],
   "source": [
    "## Q2: Array Operations: Perform element-wise addition, subtraction, multiplication, and division on two Numpy arrays.\n",
    "\n",
    "array1 = np.array([1,2,3,4,5])\n",
    "array2 = np.array([6,7,8,9,10])\n",
    "\n",
    "addition = array1 + array2\n",
    "print(addition)\n",
    "\n",
    "subtraction = array1 - array2\n",
    "print(subtraction)\n",
    "\n",
    "multiplication = array1 * array2\n",
    "print(multiplication)\n",
    "\n",
    "division = array1 / array2\n",
    "print(division)\n"
   ]
  },
  {
   "cell_type": "code",
   "execution_count": null,
   "id": "91ef3b36",
   "metadata": {},
   "outputs": [
    {
     "name": "stdout",
     "output_type": "stream",
     "text": [
      "[1 2 3 4]\n"
     ]
    }
   ],
   "source": [
    "## Q3: Array Sclicing: Extract the first 3 elements from a NumPy array.\n",
    "arr = np.array([1, 2, 3, 4, 5, 6, 7, 8, 9, 10])\n",
    "\n",
    "arr = arr[:4]\n",
    "print(arr)"
   ]
  },
  {
   "cell_type": "code",
   "execution_count": null,
   "id": "6c488742",
   "metadata": {},
   "outputs": [
    {
     "name": "stdout",
     "output_type": "stream",
     "text": [
      "[[0 1 2]\n",
      " [3 4 5]]\n"
     ]
    }
   ],
   "source": [
    "## Q4: Array Reshaping: Reshape a 1D NumPy array to a 2D array with 2 rows annd 3 columns.\n",
    "\n",
    "arr = np.arange(0,6).reshape(2,3)\n",
    "print(arr)"
   ]
  },
  {
   "cell_type": "code",
   "execution_count": null,
   "id": "c1cc6c66",
   "metadata": {},
   "outputs": [
    {
     "name": "stdout",
     "output_type": "stream",
     "text": [
      "5.5\n",
      "2.8722813232690143\n"
     ]
    }
   ],
   "source": [
    "## Q5 Array Agrregation: Calculate the mean, median, and standard deviation of a NumPy array.\n",
    "\n",
    "arr = np.array([1,2,3,4,5,6,7,8,9,10])\n",
    "\n",
    "mean = np.mean(arr)\n",
    "print(mean)\n",
    "\n",
    "standard_deviation = np.std(arr)\n",
    "print(standard_deviation)"
   ]
  },
  {
   "cell_type": "markdown",
   "id": "ee283d45",
   "metadata": {},
   "source": [
    "# Pandas Practice Questions:"
   ]
  },
  {
   "cell_type": "code",
   "execution_count": 86,
   "id": "ea25a217",
   "metadata": {},
   "outputs": [
    {
     "name": "stdout",
     "output_type": "stream",
     "text": [
      "      Name  Age  Gender  Height\n",
      "0    Alice   25  Female     165\n",
      "1      Bob   30    Male     170\n",
      "2  Charlie   35    Male     160\n",
      "3      NaN    0     NaN       0\n"
     ]
    }
   ],
   "source": [
    "## Q1: DataFrame Creation: Create a Pandas DataFrame from a dictionary of lists, where each list represents a column.\n",
    "\n",
    "dictionary = {'Name': ['Alice', 'Bob', 'Charlie',np.nan], \n",
    "              'Age': [25,30,35,0],\n",
    "              'Gender': ['Female', 'Male', 'Male',np.nan], \n",
    "              'Height': [165, 170, 160,0]}\n",
    "\n",
    "df = pd.DataFrame(dictionary)\n",
    "print(df)"
   ]
  },
  {
   "cell_type": "code",
   "execution_count": null,
   "id": "6cd9d8b0",
   "metadata": {},
   "outputs": [
    {
     "name": "stdout",
     "output_type": "stream",
     "text": [
      "      Name  Age  Gender  Height  Weight        BMI\n",
      "0    Alice   25  Female     165     135  49.586777\n",
      "1      Bob   30    Male     170     150  51.903114\n",
      "2  Charlie   35    Male     160     180  70.312500\n"
     ]
    }
   ],
   "source": [
    "## Q2: DataFrame Operations: Add a new column to an existing DataFrame. Perform element-wise operations between two columns.\n",
    "\n",
    "df['Weight'] = [135,150,180]\n",
    "\n",
    "df['BMI'] = df['Weight'] / (df['Height']/100)**2\n",
    "print(df)"
   ]
  },
  {
   "cell_type": "code",
   "execution_count": null,
   "id": "bc995ef3",
   "metadata": {},
   "outputs": [
    {
     "name": "stdout",
     "output_type": "stream",
     "text": [
      "    Name  Age  Gender  Height  Weight        BMI\n",
      "0  Alice   25  Female     165     135  49.586777\n",
      "1    Bob   30    Male     170     150  51.903114\n",
      "      Name  Age\n",
      "0    Alice   25\n",
      "1      Bob   30\n",
      "2  Charlie   35\n"
     ]
    }
   ],
   "source": [
    "## Q3: Data Selection: Select rows based on a condition. Select specific columns from a DataFrame.\n",
    "\n",
    "df_rows = df[df['Height'] >= 165]\n",
    "print(df_rows)\n",
    "\n",
    "df_columns = df[['Name','Age']]\n",
    "print(df_columns)"
   ]
  },
  {
   "cell_type": "code",
   "execution_count": 80,
   "id": "cbbc0e12",
   "metadata": {},
   "outputs": [
    {
     "name": "stdout",
     "output_type": "stream",
     "text": [
      "         Age  Height\n",
      "Gender              \n",
      "Female  25.0   165.0\n",
      "Male    32.5   165.0\n"
     ]
    }
   ],
   "source": [
    "## Q4: Data Aggregation: Group a DataFrame based on a categorical column and calculate the mean of each group.\n",
    "\n",
    "df_grouped = df.groupby('Gender')[['Age','Height']].mean()\n",
    "print(df_grouped)"
   ]
  },
  {
   "cell_type": "code",
   "execution_count": 88,
   "id": "a9a8fd18",
   "metadata": {},
   "outputs": [
    {
     "name": "stdout",
     "output_type": "stream",
     "text": [
      "      Name  Age  Gender  Height\n",
      "0    Alice   25  Female     165\n",
      "1      Bob   30    Male     170\n",
      "2  Charlie   35    Male     160\n",
      "      Name  Age  Gender  Height\n",
      "0    Alice   25  Female     165\n",
      "1      Bob   30    Male     170\n",
      "2  Charlie   35    Male     160\n",
      "3        0    0       0       0\n"
     ]
    }
   ],
   "source": [
    "## Q5: Data Cleaning: Handle missing values by either removing or replacing them with apprpriate values.\n",
    "\n",
    "df_cleaned = df.dropna()\n",
    "print(df_cleaned)\n",
    "\n",
    "df_filled = df.fillna(0)\n",
    "print(df_filled)"
   ]
  }
 ],
 "metadata": {
  "kernelspec": {
   "display_name": "Python 3 (ipykernel)",
   "language": "python",
   "name": "python3"
  },
  "language_info": {
   "codemirror_mode": {
    "name": "ipython",
    "version": 3
   },
   "file_extension": ".py",
   "mimetype": "text/x-python",
   "name": "python",
   "nbconvert_exporter": "python",
   "pygments_lexer": "ipython3",
   "version": "3.12.3"
  }
 },
 "nbformat": 4,
 "nbformat_minor": 5
}
